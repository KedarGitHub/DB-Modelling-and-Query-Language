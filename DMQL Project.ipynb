{
 "cells": [
  {
   "cell_type": "code",
   "execution_count": 1,
   "metadata": {},
   "outputs": [
    {
     "name": "stdout",
     "output_type": "stream",
     "text": [
      "Requirement already satisfied: Faker in c:\\users\\kedar\\anaconda3\\lib\\site-packages (18.6.2)\n",
      "Requirement already satisfied: python-dateutil>=2.4 in c:\\users\\kedar\\anaconda3\\lib\\site-packages (from Faker) (2.8.1)\n",
      "Requirement already satisfied: six>=1.5 in c:\\users\\kedar\\anaconda3\\lib\\site-packages (from python-dateutil>=2.4->Faker) (1.15.0)\n",
      "Note: you may need to restart the kernel to use updated packages.\n"
     ]
    }
   ],
   "source": [
    "pip install Faker"
   ]
  },
  {
   "cell_type": "code",
   "execution_count": 2,
   "metadata": {},
   "outputs": [],
   "source": [
    "from faker import Faker\n",
    "import random\n",
    "fake = Faker()\n",
    "# Generate Customer\n",
    "customer_age, customer_address, customer_status = list(), list(), list()\n",
    "customer_first_name, customer_last_name, customer_email = list(), list(), set()\n",
    "full = list()\n",
    "# Generate Author\n",
    "author_id, name = set(), set()\n",
    "\n",
    "# book table\n",
    "book_id, book_title, book_type_1, price = set(), set(), list(), list()\n",
    "\n",
    "# book Author\n",
    "author_id_rel, book_id_rel = list(), list()\n",
    "\n",
    "# Book category\n",
    "book_id_cat, cat_id_rel= list(), list()\n",
    "\n",
    "category_name =['Fiction','Non-Fiction','Biography','Autobiography','History','Science','Philosophy','Religion','Politics', 'Business', 'Cooking', 'Travel', 'Art', 'Music', 'Sports', 'Technology', 'Self-Help', 'Romance', 'Mystery', 'Horror', 'Fantasy', 'Science Fiction', 'Poetry', 'Drama', 'Comics', 'Graphic Novels', 'Young Adult', 'Children', 'Reference', 'Medical', 'Psychology', 'Education', 'Sociology', 'Anthropology', 'Linguistics', 'Environmental Science', 'Geology', 'Astronomy', 'Mathematics', 'Physics', 'Chemistry', 'Biology', 'Engineering', 'Computer Science', 'Law', 'Economics', 'Marketing', 'Management', 'Finance', 'Accounting', 'Ethics', 'Culture', 'Fashion', 'Gardening', 'Pets', 'Parenting', 'Relationships', 'Humor', 'Memoir', 'True Crime', 'Spirituality', 'Travel Guides', 'Cycling', 'Hiking', 'Sailing', 'Fishing', 'Photography', 'Architecture', 'Interior Design', 'Fashion Design']\n",
    "category_id = [i for i in range(1,len(category_name)+1)]\n",
    "customer_id_card_number = [i for i in range(1,25001)]\n",
    "\n"
   ]
  },
  {
   "cell_type": "code",
   "execution_count": 3,
   "metadata": {},
   "outputs": [],
   "source": [
    "book_type_id = [1,2]\n",
    "book_type= ['For Children','For Adults']"
   ]
  },
  {
   "cell_type": "code",
   "execution_count": 4,
   "metadata": {},
   "outputs": [
    {
     "name": "stdout",
     "output_type": "stream",
     "text": [
      "for done\n",
      "first while done\n",
      "second while done\n",
      "third while done\n"
     ]
    }
   ],
   "source": [
    "for i in range(25000):\n",
    "    \n",
    "    # Customer\n",
    "#     first = fake.first_name()\n",
    "#     last = fake.last_name()\n",
    "#     #print(name)\n",
    "#     #print(full)\n",
    "#     while True:\n",
    "#         if first+last not in full:\n",
    "#             customer_first_name.append(first)\n",
    "#             customer_last_name.append(last)\n",
    "#             full.append(first+last)\n",
    "#             break\n",
    "    customer_age.append(fake.random_int(min=18, max=100))\n",
    "    customer_address.append(fake.address())\n",
    "    customer_status.append(fake.random_element(['Active', 'Inactive']))\n",
    "    \n",
    "    if len(book_type_1) < 5000:\n",
    "        book_type_1.append(fake.random_element([1, 2]))\n",
    "    \n",
    "    if len(price) < 5000:\n",
    "        price.append(random.uniform(5.0, 30.0))\n",
    "    \n",
    "print('for done')    \n",
    "    # Author\n",
    "#     while True:\n",
    "#         random_id = fake.unique.random_number(digits=6)\n",
    "#         if random_id not in author_id:\n",
    "#             author_id.append(random_id)\n",
    "#             break\n",
    "#     while True:\n",
    "#         author_name = fake.name()\n",
    "#         if author_name not in name:\n",
    "#             name.append(author_name)\n",
    "#             break\n",
    "            \n",
    "    # Book\n",
    "#     while True:\n",
    "        \n",
    "#         random_id = fake.unique.random_number(digits=6)\n",
    "#         if random_id not in book_id:\n",
    "#             book_id.append(random_id)\n",
    "#             break\n",
    "#     while True:\n",
    "#         title = fake.sentence(nb_words=3, variable_nb_words=True, ext_word_list=None)\n",
    "#         if title not in book_title:\n",
    "#             book_title.append(title)\n",
    "#             break\n",
    "\n",
    "\n",
    "    #print(name)\n",
    "    #print(full)\n",
    "while len(full)<25000:\n",
    "        first = fake.first_name()\n",
    "        last = fake.last_name()\n",
    "        if first+last not in full:\n",
    "            customer_first_name.append(first)\n",
    "            customer_last_name.append(last)\n",
    "            full.append(first+last)\n",
    "\n",
    "print('first while done')\n",
    "            \n",
    "while len(customer_email)< 25000:\n",
    "    # Customer Email\n",
    "        email = fake.email()\n",
    "        customer_email.add(email)\n",
    "\n",
    "print('second while done')\n",
    "while len(name) < 1000 or len(author_id) < 1000 or len(book_id) < 5000 or len(book_title) < 5000:\n",
    "    # Author\n",
    "    if len(name) < 1000:\n",
    "        author_name = fake.name()\n",
    "        name.add(author_name)\n",
    "    \n",
    "    if len(author_id) < 1000:\n",
    "        aid=fake.unique.random_number(digits=6)\n",
    "        author_id.add(aid)\n",
    "    \n",
    "    # Book\n",
    "    if len(book_id) < 5000:\n",
    "        random_id = fake.unique.random_number(digits=6)\n",
    "        book_id.add(random_id)\n",
    "    \n",
    "    if len(book_title) < 5000:\n",
    "        title = fake.sentence(nb_words=3, variable_nb_words=True, ext_word_list=None)\n",
    "        book_title.add(title)    \n",
    "        \n",
    "print('third while done')"
   ]
  },
  {
   "cell_type": "code",
   "execution_count": 6,
   "metadata": {},
   "outputs": [
    {
     "name": "stdout",
     "output_type": "stream",
     "text": [
      "Fourth while done\n"
     ]
    }
   ],
   "source": [
    "# Book Author relation\n",
    "temp = list()\n",
    "while len(set(book_id_rel))<len(book_id):\n",
    "    aut =fake.random_element(elements=author_id)\n",
    "    boo =fake.random_element(elements=book_id)\n",
    "    if aut+boo not in temp:\n",
    "        author_id_rel.append(aut)\n",
    "        book_id_rel.append(boo)\n",
    "        temp.append(aut+boo)\n",
    "print('Fourth while done')\n"
   ]
  },
  {
   "cell_type": "code",
   "execution_count": 7,
   "metadata": {},
   "outputs": [
    {
     "name": "stdout",
     "output_type": "stream",
     "text": [
      "Fifth while done\n"
     ]
    }
   ],
   "source": [
    "# Book Category relation\n",
    "temp2=list()\n",
    "while len(set(book_id_cat))<len(book_id):\n",
    "    cat = fake.random_element(elements=category_id)\n",
    "    boocat= fake.random_element(elements=book_id)\n",
    "    if cat+boocat not in temp2:\n",
    "        cat_id_rel.append(cat)\n",
    "        book_id_cat.append(boocat)\n",
    "        temp2.append(cat+boocat)\n",
    "print('Fifth while done')   "
   ]
  },
  {
   "cell_type": "code",
   "execution_count": 8,
   "metadata": {},
   "outputs": [
    {
     "name": "stdout",
     "output_type": "stream",
     "text": [
      "Sixth while done\n"
     ]
    }
   ],
   "source": [
    "# Book Copy\n",
    "from datetime import date\n",
    "unique_book_id, published_year, book__id_for_copy, published_by, availability= set(), list(), list(), list(), list()\n",
    "dictionary = dict()\n",
    "start_date = date(1900, 1, 1)\n",
    "end_date = date(2022, 12, 31)\n",
    "while len(set(book__id_for_copy))<len(book_id):\n",
    "    value = fake.unique.random_number(digits=6)\n",
    "    if value not in unique_book_id:\n",
    "        unique_book_id.add(value)\n",
    "        book__id_for_copy.append(fake.random_element(elements=book_id))\n",
    "        published_year.append(fake.date_between(start_date=start_date, end_date=end_date))\n",
    "        published_by.append(fake.company())\n",
    "        value2= fake.random_element(['Available', 'Unavailable'])\n",
    "        availability.append(value2)\n",
    "        dictionary[value]=value2\n",
    "print('Sixth while done')"
   ]
  },
  {
   "cell_type": "code",
   "execution_count": 63,
   "metadata": {},
   "outputs": [
    {
     "name": "stdout",
     "output_type": "stream",
     "text": [
      "23064\n",
      "23064\n",
      "23064\n",
      "23064\n",
      "23064\n",
      "23064\n",
      "23064\n"
     ]
    }
   ],
   "source": [
    "# Check Out\n",
    "from datetime import date\n",
    "from datetime import timedelta\n",
    "customer = list()\n",
    "for i in range(len(customer_id_card_number)):\n",
    "    if(customer_status[i]=='Active'):\n",
    "        customer.append(customer_id_card_number[i])\n",
    "\n",
    "checkout_id, issue_date, due_date, actual_return_date, fine, unique_book_id2, customer_id_card_number2= list(), list(), list(), list(), list(), list(), list()\n",
    "\n",
    "for key, value in dictionary.items():\n",
    "    if value=='Unavailable':\n",
    "        unique_book_id2.append(key)\n",
    "start_date = date(2023, 1, 1)\n",
    "end_date = date(2023, 4, 30)     \n",
    "for i in range(1,len(unique_book_id2)+1):\n",
    "    checkout_id.append(i)\n",
    "    customer_id_card_number2.append(fake.random_element(elements=customer))\n",
    "    issue= fake.date_between(start_date=start_date, end_date=end_date)\n",
    "    issue_date.append(issue)\n",
    "    due=fake.date_between(start_date=issue + timedelta(days=1))\n",
    "    due_date.append(due)\n",
    "    actual_return_date.append(fake.date_between(start_date=due + timedelta(days=1)))\n",
    "    fine.append(0.0)\n",
    "\n",
    "print(len(checkout_id))\n",
    "print(len(customer_id_card_number2))\n",
    "print(len(issue_date))\n",
    "print(len(due_date))\n",
    "print(len(actual_return_date))\n",
    "print(len(unique_book_id2))\n",
    "print(len(fine))"
   ]
  },
  {
   "cell_type": "code",
   "execution_count": 9,
   "metadata": {},
   "outputs": [
    {
     "name": "stdout",
     "output_type": "stream",
     "text": [
      "CSV file created successfully.\n"
     ]
    }
   ],
   "source": [
    "import csv\n",
    "\n",
    "# Define the CSV file path\n",
    "csv_file_path = 'customer.csv'\n",
    "\n",
    "# Create or open the CSV file in write mode\n",
    "with open(csv_file_path, 'w', newline='') as file:\n",
    "    writer = csv.writer(file)\n",
    "\n",
    "    # Write the header row if needed\n",
    "    writer.writerow(['customer_id_card_number','customer_first_name', 'customer_last_name', 'customer_age','customer_address', 'customer_email', 'customer_status'])\n",
    "\n",
    "    # Write the data rows\n",
    "    customer_email = list(customer_email)\n",
    "    for i in range(len(customer_first_name)):\n",
    "        writer.writerow([customer_id_card_number[i], customer_first_name[i], customer_last_name[i], customer_age[i],customer_address[i], customer_email[i], customer_status[i]])\n",
    "\n",
    "print('CSV file created successfully.')"
   ]
  },
  {
   "cell_type": "code",
   "execution_count": 10,
   "metadata": {},
   "outputs": [
    {
     "name": "stdout",
     "output_type": "stream",
     "text": [
      "CSV file created successfully.\n"
     ]
    }
   ],
   "source": [
    "import csv\n",
    "\n",
    "# Define the CSV file path\n",
    "csv_file_path = 'book_type.csv'\n",
    "\n",
    "# Create or open the CSV file in write mode\n",
    "with open(csv_file_path, 'w', newline='') as file:\n",
    "    writer = csv.writer(file)\n",
    "\n",
    "    # Write the header row if needed\n",
    "    writer.writerow(['book_type_id','book_type'])\n",
    "\n",
    "    # Write the data rows\n",
    "    for i in range(len(book_type_id)):\n",
    "        writer.writerow([book_type_id[i], book_type[i]])\n",
    "\n",
    "print('CSV file created successfully.')"
   ]
  },
  {
   "cell_type": "code",
   "execution_count": 11,
   "metadata": {},
   "outputs": [
    {
     "name": "stdout",
     "output_type": "stream",
     "text": [
      "CSV file created successfully.\n"
     ]
    }
   ],
   "source": [
    "import csv\n",
    "\n",
    "# Define the CSV file path\n",
    "csv_file_path = 'author.csv'\n",
    "\n",
    "# Create or open the CSV file in write mode\n",
    "with open(csv_file_path, 'w', newline='') as file:\n",
    "    writer = csv.writer(file)\n",
    "\n",
    "    # Write the header row if needed\n",
    "    writer.writerow(['author_id', 'name'])\n",
    "\n",
    "    # Write the data rows\n",
    "    author_id= list(author_id) \n",
    "    name=list(name)\n",
    "    for i in range(len(author_id)):\n",
    "        writer.writerow([author_id[i], name[i]])\n",
    "\n",
    "print('CSV file created successfully.')"
   ]
  },
  {
   "cell_type": "code",
   "execution_count": 12,
   "metadata": {},
   "outputs": [
    {
     "name": "stdout",
     "output_type": "stream",
     "text": [
      "CSV file created successfully.\n"
     ]
    }
   ],
   "source": [
    "import csv\n",
    "\n",
    "# Define the CSV file path\n",
    "csv_file_path = 'book.csv'\n",
    "\n",
    "# Create or open the CSV file in write mode\n",
    "with open(csv_file_path, 'w', newline='') as file:\n",
    "    writer = csv.writer(file)\n",
    "\n",
    "    # Write the header row if needed\n",
    "    writer.writerow(['book_id', 'book_title', 'book_type', 'price'])\n",
    "\n",
    "    # Write the data rows\n",
    "    book_id= list(book_id) \n",
    "    book_title=list(book_title)\n",
    "    for i in range(len(book_id)):\n",
    "        writer.writerow([book_id[i], book_title[i], book_type_1[i], price[i]])\n",
    "\n",
    "print('CSV file created successfully.')"
   ]
  },
  {
   "cell_type": "code",
   "execution_count": 13,
   "metadata": {},
   "outputs": [
    {
     "name": "stdout",
     "output_type": "stream",
     "text": [
      "CSV file created successfully.\n"
     ]
    }
   ],
   "source": [
    "import csv\n",
    "\n",
    "# Define the CSV file path\n",
    "csv_file_path = 'category.csv'\n",
    "\n",
    "# Create or open the CSV file in write mode\n",
    "with open(csv_file_path, 'w', newline='') as file:\n",
    "    writer = csv.writer(file)\n",
    "\n",
    "    # Write the header row if needed\n",
    "    writer.writerow(['category_id', 'category_name'])\n",
    "\n",
    "    # Write the data rows\n",
    "    author_id= list(author_id) \n",
    "    name=list(name)\n",
    "    for i in range(len(category_id)):\n",
    "        writer.writerow([category_id[i],category_name[i]])\n",
    "\n",
    "print('CSV file created successfully.')"
   ]
  },
  {
   "cell_type": "code",
   "execution_count": 14,
   "metadata": {},
   "outputs": [
    {
     "name": "stdout",
     "output_type": "stream",
     "text": [
      "CSV file created successfully.\n"
     ]
    }
   ],
   "source": [
    "import csv\n",
    "\n",
    "# Define the CSV file path\n",
    "csv_file_path = 'book_category_relation.csv'\n",
    "\n",
    "# Create or open the CSV file in write mode\n",
    "with open(csv_file_path, 'w', newline='') as file:\n",
    "    writer = csv.writer(file)\n",
    "\n",
    "    # Write the header row if needed\n",
    "    writer.writerow(['book_id_cat', 'category_name'])\n",
    "\n",
    "    # Write the data rows\n",
    "    author_id= list(author_id) \n",
    "    name=list(name)\n",
    "    for i in range(len(book_id_cat)):\n",
    "        writer.writerow([book_id_cat[i],cat_id_rel[i]])\n",
    "\n",
    "print('CSV file created successfully.')"
   ]
  },
  {
   "cell_type": "code",
   "execution_count": 15,
   "metadata": {},
   "outputs": [
    {
     "name": "stdout",
     "output_type": "stream",
     "text": [
      "CSV file created successfully.\n"
     ]
    }
   ],
   "source": [
    "import csv\n",
    "\n",
    "# Define the CSV file path\n",
    "csv_file_path = 'book_author_relation.csv'\n",
    "\n",
    "# Create or open the CSV file in write mode\n",
    "with open(csv_file_path, 'w', newline='') as file:\n",
    "    writer = csv.writer(file)\n",
    "\n",
    "    # Write the header row if needed\n",
    "    writer.writerow(['book_id_rel', 'author_id_rel'])\n",
    "\n",
    "    # Write the data rows\n",
    "    for i in range(len(book_id_rel)):\n",
    "        writer.writerow([book_id_rel[i], author_id_rel[i]])\n",
    "\n",
    "print('CSV file created successfully.')"
   ]
  },
  {
   "cell_type": "code",
   "execution_count": 16,
   "metadata": {},
   "outputs": [
    {
     "name": "stdout",
     "output_type": "stream",
     "text": [
      "CSV file created successfully.\n"
     ]
    }
   ],
   "source": [
    "import csv\n",
    "\n",
    "# Define the CSV file path\n",
    "csv_file_path = 'book_copy.csv'\n",
    "\n",
    "# Create or open the CSV file in write mode\n",
    "with open(csv_file_path, 'w', newline='') as file:\n",
    "    writer = csv.writer(file)\n",
    "\n",
    "    # Write the header row if needed\n",
    "    writer.writerow(['unique_book_id', 'published_year', 'book_id', 'published_by', 'available'])\n",
    "\n",
    "    # Write the data rows\n",
    "    unique_book_id= list(unique_book_id) \n",
    "    for i in range(len(unique_book_id)):\n",
    "        writer.writerow([unique_book_id[i], published_year[i], book__id_for_copy[i], published_by[i], availability[i]])\n",
    "\n",
    "print('CSV file created successfully.')"
   ]
  },
  {
   "cell_type": "code",
   "execution_count": 64,
   "metadata": {},
   "outputs": [
    {
     "name": "stdout",
     "output_type": "stream",
     "text": [
      "CSV file created successfully.\n"
     ]
    }
   ],
   "source": [
    "import csv\n",
    "\n",
    "# Define the CSV file path\n",
    "csv_file_path = 'checkout.csv'\n",
    "\n",
    "# Create or open the CSV file in write mode\n",
    "with open(csv_file_path, 'w', newline='') as file:\n",
    "    writer = csv.writer(file)\n",
    "\n",
    "    # Write the header row if needed\n",
    "    writer.writerow(['checkout_id','issue_date', 'due_date', 'actual_return_date','fine', 'unique_book_id2', 'customer_id_card_number2'])\n",
    "\n",
    "    # Write the data rows\n",
    "    for i in range(len(checkout_id)):\n",
    "        writer.writerow([checkout_id[i], issue_date[i], due_date[i], actual_return_date[i],fine[i], unique_book_id2[i], customer_id_card_number2[i]])\n",
    "\n",
    "print('CSV file created successfully.')"
   ]
  },
  {
   "cell_type": "code",
   "execution_count": 17,
   "metadata": {},
   "outputs": [
    {
     "name": "stdout",
     "output_type": "stream",
     "text": [
      "Requirement already satisfied: psycopg2 in c:\\users\\kedar\\anaconda3\\lib\\site-packages (2.9.6)\n",
      "Note: you may need to restart the kernel to use updated packages.\n"
     ]
    }
   ],
   "source": [
    "pip install psycopg2"
   ]
  },
  {
   "cell_type": "code",
   "execution_count": 18,
   "metadata": {},
   "outputs": [],
   "source": [
    "import csv\n",
    "import psycopg2\n",
    "\n",
    "# Database connection details\n",
    "conn = psycopg2.connect(\n",
    "    host=\"localhost\",\n",
    "    database=\"library\",\n",
    "    user=\"postgres\",\n",
    "    password=\"Kneadyaark.1994$\"\n",
    ")\n",
    "\n",
    "# Create a cursor object\n",
    "cursor = conn.cursor()\n",
    "\n",
    "# CSV file path and table name\n",
    "csv_file_path = \"author.csv\"\n",
    "table_name = \"author\"\n",
    "\n",
    "# Open the CSV file and read its contents\n",
    "with open(csv_file_path, 'r') as file:\n",
    "    reader = csv.reader(file)\n",
    "    header = next(reader)  # Read the header row\n",
    "\n",
    "#     # Create the table in the database\n",
    "#     create_table_query = f\"CREATE TABLE IF NOT EXISTS {table_name} ({','.join(header)});\"\n",
    "#     cursor.execute(create_table_query)\n",
    "#     conn.commit()\n",
    "\n",
    "    # Insert data into the table\n",
    "    insert_query = f\"INSERT INTO {table_name} VALUES ({','.join(['%s' for _ in header])});\"\n",
    "    for row in reader:\n",
    "        cursor.execute(insert_query, row)\n",
    "    conn.commit()\n"
   ]
  },
  {
   "cell_type": "code",
   "execution_count": 19,
   "metadata": {},
   "outputs": [],
   "source": [
    "# Create a cursor object\n",
    "cursor = conn.cursor()\n",
    "\n",
    "# CSV file path and table name\n",
    "csv_file_path = \"customer.csv\"\n",
    "table_name = \"customer\"\n",
    "\n",
    "# Open the CSV file and read its contents\n",
    "with open(csv_file_path, 'r') as file:\n",
    "    reader = csv.reader(file)\n",
    "    header = next(reader)  # Read the header row\n",
    "\n",
    "#     # Create the table in the database\n",
    "#     create_table_query = f\"CREATE TABLE IF NOT EXISTS {table_name} ({','.join(header)});\"\n",
    "#     cursor.execute(create_table_query)\n",
    "#     conn.commit()\n",
    "\n",
    "    # Insert data into the table\n",
    "    insert_query = f\"INSERT INTO {table_name} VALUES ({','.join(['%s' for _ in header])});\"\n",
    "    for row in reader:\n",
    "        cursor.execute(insert_query, row)\n",
    "    conn.commit()\n"
   ]
  },
  {
   "cell_type": "code",
   "execution_count": 20,
   "metadata": {},
   "outputs": [],
   "source": [
    "# Create a cursor object\n",
    "cursor = conn.cursor()\n",
    "\n",
    "# CSV file path and table name\n",
    "csv_file_path = \"book_type.csv\"\n",
    "table_name = \"book_type\"\n",
    "\n",
    "# Open the CSV file and read its contents\n",
    "with open(csv_file_path, 'r') as file:\n",
    "    reader = csv.reader(file)\n",
    "    header = next(reader)  # Read the header row\n",
    "\n",
    "#     # Create the table in the database\n",
    "#     create_table_query = f\"CREATE TABLE IF NOT EXISTS {table_name} ({','.join(header)});\"\n",
    "#     cursor.execute(create_table_query)\n",
    "#     conn.commit()\n",
    "\n",
    "    # Insert data into the table\n",
    "    insert_query = f\"INSERT INTO {table_name} VALUES ({','.join(['%s' for _ in header])});\"\n",
    "    for row in reader:\n",
    "        cursor.execute(insert_query, row)\n",
    "    conn.commit()"
   ]
  },
  {
   "cell_type": "code",
   "execution_count": 21,
   "metadata": {},
   "outputs": [],
   "source": [
    "# Create a cursor object\n",
    "cursor = conn.cursor()\n",
    "\n",
    "# CSV file path and table name\n",
    "csv_file_path = \"book.csv\"\n",
    "table_name = \"book\"\n",
    "\n",
    "# Open the CSV file and read its contents\n",
    "with open(csv_file_path, 'r') as file:\n",
    "    reader = csv.reader(file)\n",
    "    header = next(reader)  # Read the header row\n",
    "\n",
    "#     # Create the table in the database\n",
    "#     create_table_query = f\"CREATE TABLE IF NOT EXISTS {table_name} ({','.join(header)});\"\n",
    "#     cursor.execute(create_table_query)\n",
    "#     conn.commit()\n",
    "\n",
    "    # Insert data into the table\n",
    "    insert_query = f\"INSERT INTO {table_name} VALUES ({','.join(['%s' for _ in header])});\"\n",
    "    for row in reader:\n",
    "        cursor.execute(insert_query, row)\n",
    "    conn.commit()"
   ]
  },
  {
   "cell_type": "code",
   "execution_count": 22,
   "metadata": {},
   "outputs": [],
   "source": [
    "# Create a cursor object\n",
    "cursor = conn.cursor()\n",
    "\n",
    "# CSV file path and table name\n",
    "csv_file_path = \"book_author_relation.csv\"\n",
    "table_name = \"book_author_relation\"\n",
    "\n",
    "# Open the CSV file and read its contents\n",
    "with open(csv_file_path, 'r') as file:\n",
    "    reader = csv.reader(file)\n",
    "    header = next(reader)  # Read the header row\n",
    "\n",
    "#     # Create the table in the database\n",
    "#     create_table_query = f\"CREATE TABLE IF NOT EXISTS {table_name} ({','.join(header)});\"\n",
    "#     cursor.execute(create_table_query)\n",
    "#     conn.commit()\n",
    "\n",
    "    # Insert data into the table\n",
    "    insert_query = f\"INSERT INTO {table_name} VALUES ({','.join(['%s' for _ in header])});\"\n",
    "    for row in reader:\n",
    "        cursor.execute(insert_query, row)\n",
    "    conn.commit()"
   ]
  },
  {
   "cell_type": "code",
   "execution_count": 23,
   "metadata": {},
   "outputs": [],
   "source": [
    "# Create a cursor object\n",
    "cursor = conn.cursor()\n",
    "\n",
    "# CSV file path and table name\n",
    "csv_file_path = \"category.csv\"\n",
    "table_name = \"category\"\n",
    "\n",
    "# Open the CSV file and read its contents\n",
    "with open(csv_file_path, 'r') as file:\n",
    "    reader = csv.reader(file)\n",
    "    header = next(reader)  # Read the header row\n",
    "\n",
    "#     # Create the table in the database\n",
    "#     create_table_query = f\"CREATE TABLE IF NOT EXISTS {table_name} ({','.join(header)});\"\n",
    "#     cursor.execute(create_table_query)\n",
    "#     conn.commit()\n",
    "\n",
    "    # Insert data into the table\n",
    "    insert_query = f\"INSERT INTO {table_name} VALUES ({','.join(['%s' for _ in header])});\"\n",
    "    for row in reader:\n",
    "        cursor.execute(insert_query, row)\n",
    "    conn.commit()"
   ]
  },
  {
   "cell_type": "code",
   "execution_count": 24,
   "metadata": {},
   "outputs": [],
   "source": [
    "# Create a cursor object\n",
    "cursor = conn.cursor()\n",
    "\n",
    "# CSV file path and table name\n",
    "csv_file_path = \"book_category_relation.csv\"\n",
    "table_name = \"book_category_relation\"\n",
    "\n",
    "# Open the CSV file and read its contents\n",
    "with open(csv_file_path, 'r') as file:\n",
    "    reader = csv.reader(file)\n",
    "    header = next(reader)  # Read the header row\n",
    "\n",
    "#     # Create the table in the database\n",
    "#     create_table_query = f\"CREATE TABLE IF NOT EXISTS {table_name} ({','.join(header)});\"\n",
    "#     cursor.execute(create_table_query)\n",
    "#     conn.commit()\n",
    "\n",
    "    # Insert data into the table\n",
    "    insert_query = f\"INSERT INTO {table_name} VALUES ({','.join(['%s' for _ in header])});\"\n",
    "    for row in reader:\n",
    "        cursor.execute(insert_query, row)\n",
    "    conn.commit()"
   ]
  },
  {
   "cell_type": "code",
   "execution_count": 26,
   "metadata": {},
   "outputs": [],
   "source": [
    "# Create a cursor object\n",
    "cursor = conn.cursor()\n",
    "\n",
    "# CSV file path and table name\n",
    "csv_file_path = \"book_copy.csv\"\n",
    "table_name = \"book_copy\"\n",
    "\n",
    "# Open the CSV file and read its contents\n",
    "with open(csv_file_path, 'r') as file:\n",
    "    reader = csv.reader(file)\n",
    "    header = next(reader)  # Read the header row\n",
    "\n",
    "#     # Create the table in the database\n",
    "#     create_table_query = f\"CREATE TABLE IF NOT EXISTS {table_name} ({','.join(header)});\"\n",
    "#     cursor.execute(create_table_query)\n",
    "#     conn.commit()\n",
    "\n",
    "    # Insert data into the table\n",
    "    insert_query = f\"INSERT INTO {table_name} VALUES ({','.join(['%s' for _ in header])});\"\n",
    "    for row in reader:\n",
    "        cursor.execute(insert_query, row)\n",
    "    conn.commit()"
   ]
  },
  {
   "cell_type": "code",
   "execution_count": 65,
   "metadata": {},
   "outputs": [],
   "source": [
    "# Create a cursor object\n",
    "cursor = conn.cursor()\n",
    "\n",
    "# CSV file path and table name\n",
    "csv_file_path = \"checkout.csv\"\n",
    "table_name = \"checkout\"\n",
    "\n",
    "# Open the CSV file and read its contents\n",
    "with open(csv_file_path, 'r') as file:\n",
    "    reader = csv.reader(file)\n",
    "    header = next(reader)  # Read the header row\n",
    "\n",
    "#     # Create the table in the database\n",
    "#     create_table_query = f\"CREATE TABLE IF NOT EXISTS {table_name} ({','.join(header)});\"\n",
    "#     cursor.execute(create_table_query)\n",
    "#     conn.commit()\n",
    "\n",
    "    # Insert data into the table\n",
    "    insert_query = f\"INSERT INTO {table_name} VALUES ({','.join(['%s' for _ in header])});\"\n",
    "    for row in reader:\n",
    "        cursor.execute(insert_query, row)\n",
    "    conn.commit()"
   ]
  },
  {
   "cell_type": "code",
   "execution_count": 27,
   "metadata": {},
   "outputs": [],
   "source": [
    "# Close the database connection\n",
    "conn.close()"
   ]
  },
  {
   "cell_type": "code",
   "execution_count": null,
   "metadata": {},
   "outputs": [],
   "source": []
  },
  {
   "cell_type": "code",
   "execution_count": null,
   "metadata": {},
   "outputs": [],
   "source": []
  }
 ],
 "metadata": {
  "kernelspec": {
   "display_name": "Python 3",
   "language": "python",
   "name": "python3"
  },
  "language_info": {
   "codemirror_mode": {
    "name": "ipython",
    "version": 3
   },
   "file_extension": ".py",
   "mimetype": "text/x-python",
   "name": "python",
   "nbconvert_exporter": "python",
   "pygments_lexer": "ipython3",
   "version": "3.8.5"
  }
 },
 "nbformat": 4,
 "nbformat_minor": 4
}
